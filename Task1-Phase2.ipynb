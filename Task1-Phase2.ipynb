{
  "nbformat": 4,
  "nbformat_minor": 0,
  "metadata": {
    "colab": {
      "provenance": []
    },
    "kernelspec": {
      "name": "python3",
      "display_name": "Python 3"
    },
    "language_info": {
      "name": "python"
    }
  },
  "cells": [
    {
      "cell_type": "code",
      "source": [
        "import pandas as pd\n",
        "import numpy as np\n",
        "\n",
        "# Load the Dataset from a Local File\n",
        "file_name = \"netflix.csv\"\n",
        "df = pd.read_csv(file_name)\n",
        "\n",
        "# Data Cleaning for Each Column\n",
        "# Handling Missing Values\n",
        "df['release_year'].fillna(df['release_year'].mean(), inplace=True)\n",
        "df['country'].fillna('Unknown', inplace=True)\n",
        "df['director'].fillna('Unknown', inplace=True)\n",
        "df['date_added'].fillna('Unknown', inplace=True)\n",
        "\n",
        "# Remove Duplicates (if any)\n",
        "df.drop_duplicates(subset=['show_id'], keep='first', inplace=True)\n",
        "\n",
        "# Handling Outliers (for numeric columns like 'release_year')\n",
        "Q1 = df['release_year'].quantile(0.25)\n",
        "Q3 = df['release_year'].quantile(0.75)\n",
        "IQR = Q3 - Q1\n",
        "lower_bound = Q1 - 1.5 * IQR\n",
        "upper_bound = Q3 + 1.5 * IQR\n",
        "df = df[(df['release_year'] >= lower_bound) & (df['release_year'] <= upper_bound)]\n",
        "\n",
        "# Print the First Few Rows of the Cleaned DataFrame\n",
        "print(df.head())\n",
        "\n",
        "# Save Cleaned Data\n",
        "df.to_csv(\"cleaned_dataset.csv\", index=False)\n"
      ],
      "metadata": {
        "colab": {
          "base_uri": "https://localhost:8080/"
        },
        "id": "W1StHGGWV3ZZ",
        "outputId": "601a5700-2621-4924-97aa-9c361527653d"
      },
      "execution_count": 3,
      "outputs": [
        {
          "output_type": "stream",
          "name": "stdout",
          "text": [
            "  show_id     type                             title         director  \\\n",
            "0      s1    Movie              Dick Johnson Is Dead  Kirsten Johnson   \n",
            "1      s3  TV Show                         Ganglands  Julien Leclercq   \n",
            "2      s6  TV Show                     Midnight Mass    Mike Flanagan   \n",
            "3     s14    Movie  Confessions of an Invisible Girl    Bruno Garotti   \n",
            "5      s9  TV Show     The Great British Baking Show  Andy Devonshire   \n",
            "\n",
            "          country date_added  release_year rating   duration  \\\n",
            "0   United States  9/25/2021          2020  PG-13     90 min   \n",
            "1          France  9/24/2021          2021  TV-MA   1 Season   \n",
            "2   United States  9/24/2021          2021  TV-MA   1 Season   \n",
            "3          Brazil  9/22/2021          2021  TV-PG     91 min   \n",
            "5  United Kingdom  9/24/2021          2021  TV-14  9 Seasons   \n",
            "\n",
            "                                           listed_in  \n",
            "0                                      Documentaries  \n",
            "1  Crime TV Shows, International TV Shows, TV Act...  \n",
            "2                 TV Dramas, TV Horror, TV Mysteries  \n",
            "3                 Children & Family Movies, Comedies  \n",
            "5                       British TV Shows, Reality TV  \n"
          ]
        }
      ]
    }
  ]
}